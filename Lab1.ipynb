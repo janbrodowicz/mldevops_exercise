{
  "nbformat": 4,
  "nbformat_minor": 0,
  "metadata": {
    "colab": {
      "provenance": [],
      "gpuType": "T4"
    },
    "kernelspec": {
      "name": "python3",
      "display_name": "Python 3"
    },
    "language_info": {
      "name": "python"
    },
    "accelerator": "GPU"
  },
  "cells": [
    {
      "cell_type": "markdown",
      "source": [
        "## Zadanie 1"
      ],
      "metadata": {
        "id": "pd5SVM8dzlFc"
      }
    },
    {
      "cell_type": "code",
      "execution_count": 1,
      "metadata": {
        "id": "6ML5tUKTrmVo"
      },
      "outputs": [],
      "source": [
        "import torch\n",
        "from torch import nn\n",
        "from torch.utils.data import DataLoader\n",
        "from torchvision import datasets\n",
        "from torchvision.transforms import ToTensor"
      ]
    },
    {
      "cell_type": "code",
      "source": [
        "# Download training data from open datasets.\n",
        "training_data = datasets.FashionMNIST(\n",
        "    root=\"data\",\n",
        "    train=True,\n",
        "    download=True,\n",
        "    transform=ToTensor(),\n",
        ")\n",
        "\n",
        "# Download test data from open datasets.\n",
        "test_data = datasets.FashionMNIST(\n",
        "    root=\"data\",\n",
        "    train=False,\n",
        "    download=True,\n",
        "    transform=ToTensor(),\n",
        ")"
      ],
      "metadata": {
        "id": "H8wi767bruvW"
      },
      "execution_count": null,
      "outputs": []
    },
    {
      "cell_type": "code",
      "source": [
        "batch_size = 64\n",
        "\n",
        "# Create data loaders.\n",
        "train_dataloader = DataLoader(training_data, batch_size=batch_size)\n",
        "test_dataloader = DataLoader(test_data, batch_size=batch_size)\n",
        "\n",
        "for X, y in test_dataloader:\n",
        "    print(f\"Shape of X [N, C, H, W]: {X.shape}\")\n",
        "    print(f\"Shape of y: {y.shape} {y.dtype}\")\n",
        "    break"
      ],
      "metadata": {
        "colab": {
          "base_uri": "https://localhost:8080/"
        },
        "id": "oYPQx3kSr_0G",
        "outputId": "a637ddaa-28a4-4b0b-e162-63feeb49008e"
      },
      "execution_count": null,
      "outputs": [
        {
          "output_type": "stream",
          "name": "stdout",
          "text": [
            "Shape of X [N, C, H, W]: torch.Size([64, 1, 28, 28])\n",
            "Shape of y: torch.Size([64]) torch.int64\n"
          ]
        }
      ]
    },
    {
      "cell_type": "code",
      "source": [
        "# Get cpu, gpu or mps device for training.\n",
        "device = (\n",
        "    \"cuda\"\n",
        "    if torch.cuda.is_available()\n",
        "    else \"mps\"\n",
        "    if torch.backends.mps.is_available()\n",
        "    else \"cpu\"\n",
        ")\n",
        "print(f\"Using {device} device\")\n",
        "\n",
        "# Define model\n",
        "class NeuralNetwork(nn.Module):\n",
        "    def __init__(self):\n",
        "        super().__init__()\n",
        "        self.flatten = nn.Flatten()\n",
        "        self.linear_relu_stack = nn.Sequential(\n",
        "            nn.Linear(28*28, 512),\n",
        "            nn.ReLU(),\n",
        "            nn.Linear(512, 512),\n",
        "            nn.ReLU(),\n",
        "            nn.Linear(512, 10)\n",
        "        )\n",
        "\n",
        "    def forward(self, x):\n",
        "        x = self.flatten(x)\n",
        "        logits = self.linear_relu_stack(x)\n",
        "        return logits\n",
        "\n",
        "model = NeuralNetwork().to(device)\n",
        "print(model)"
      ],
      "metadata": {
        "colab": {
          "base_uri": "https://localhost:8080/"
        },
        "id": "KPNVxkTqsOip",
        "outputId": "6cd3e56e-275a-41d3-f1e0-00a7102ac878"
      },
      "execution_count": null,
      "outputs": [
        {
          "output_type": "stream",
          "name": "stdout",
          "text": [
            "Using cuda device\n",
            "NeuralNetwork(\n",
            "  (flatten): Flatten(start_dim=1, end_dim=-1)\n",
            "  (linear_relu_stack): Sequential(\n",
            "    (0): Linear(in_features=784, out_features=512, bias=True)\n",
            "    (1): ReLU()\n",
            "    (2): Linear(in_features=512, out_features=512, bias=True)\n",
            "    (3): ReLU()\n",
            "    (4): Linear(in_features=512, out_features=10, bias=True)\n",
            "  )\n",
            ")\n"
          ]
        }
      ]
    },
    {
      "cell_type": "code",
      "source": [
        "loss_fn = nn.CrossEntropyLoss()\n",
        "optimizer = torch.optim.SGD(model.parameters(), lr=1e-3)"
      ],
      "metadata": {
        "id": "fIW862nNvw8F"
      },
      "execution_count": null,
      "outputs": []
    },
    {
      "cell_type": "code",
      "source": [
        "def train(dataloader, model, loss_fn, optimizer):\n",
        "    size = len(dataloader.dataset)\n",
        "    model.train()\n",
        "    for batch, (X, y) in enumerate(dataloader):\n",
        "        X, y = X.to(device), y.to(device)\n",
        "\n",
        "        # Compute prediction error\n",
        "        pred = model(X)\n",
        "        loss = loss_fn(pred, y)\n",
        "\n",
        "        # Backpropagation\n",
        "        loss.backward()\n",
        "        optimizer.step()\n",
        "        optimizer.zero_grad()\n",
        "\n",
        "        if batch % 100 == 0:\n",
        "            loss, current = loss.item(), (batch + 1) * len(X)\n",
        "            print(f\"loss: {loss:>7f}  [{current:>5d}/{size:>5d}]\")"
      ],
      "metadata": {
        "id": "tpXciWA7wE0k"
      },
      "execution_count": null,
      "outputs": []
    },
    {
      "cell_type": "code",
      "source": [
        "def test(dataloader, model, loss_fn):\n",
        "    size = len(dataloader.dataset)\n",
        "    num_batches = len(dataloader)\n",
        "    model.eval()\n",
        "    test_loss, correct = 0, 0\n",
        "    with torch.no_grad():\n",
        "        for X, y in dataloader:\n",
        "            X, y = X.to(device), y.to(device)\n",
        "            pred = model(X)\n",
        "            test_loss += loss_fn(pred, y).item()\n",
        "            correct += (pred.argmax(1) == y).type(torch.float).sum().item()\n",
        "    test_loss /= num_batches\n",
        "    correct /= size\n",
        "    print(f\"Test Error: \\n Accuracy: {(100*correct):>0.1f}%, Avg loss: {test_loss:>8f} \\n\")"
      ],
      "metadata": {
        "id": "R--wGSa5wHVZ"
      },
      "execution_count": null,
      "outputs": []
    },
    {
      "cell_type": "code",
      "source": [
        "epochs = 5\n",
        "for t in range(epochs):\n",
        "    print(f\"Epoch {t+1}\\n-------------------------------\")\n",
        "    train(train_dataloader, model, loss_fn, optimizer)\n",
        "    test(test_dataloader, model, loss_fn)\n",
        "print(\"Done!\")"
      ],
      "metadata": {
        "colab": {
          "base_uri": "https://localhost:8080/"
        },
        "id": "grLxBtNdwKcP",
        "outputId": "a9d8a354-8484-4392-899b-a309909d9aef"
      },
      "execution_count": null,
      "outputs": [
        {
          "output_type": "stream",
          "name": "stdout",
          "text": [
            "Epoch 1\n",
            "-------------------------------\n",
            "loss: 2.316693  [   64/60000]\n",
            "loss: 2.302498  [ 6464/60000]\n",
            "loss: 2.285220  [12864/60000]\n",
            "loss: 2.267158  [19264/60000]\n",
            "loss: 2.256196  [25664/60000]\n",
            "loss: 2.231347  [32064/60000]\n",
            "loss: 2.229714  [38464/60000]\n",
            "loss: 2.197872  [44864/60000]\n",
            "loss: 2.200580  [51264/60000]\n",
            "loss: 2.159374  [57664/60000]\n",
            "Test Error: \n",
            " Accuracy: 43.2%, Avg loss: 2.161373 \n",
            "\n",
            "Epoch 2\n",
            "-------------------------------\n",
            "loss: 2.181397  [   64/60000]\n",
            "loss: 2.167222  [ 6464/60000]\n",
            "loss: 2.115144  [12864/60000]\n",
            "loss: 2.117086  [19264/60000]\n",
            "loss: 2.082606  [25664/60000]\n",
            "loss: 2.023413  [32064/60000]\n",
            "loss: 2.043833  [38464/60000]\n",
            "loss: 1.963349  [44864/60000]\n",
            "loss: 1.966809  [51264/60000]\n",
            "loss: 1.899760  [57664/60000]\n",
            "Test Error: \n",
            " Accuracy: 56.0%, Avg loss: 1.899592 \n",
            "\n",
            "Epoch 3\n",
            "-------------------------------\n",
            "loss: 1.938179  [   64/60000]\n",
            "loss: 1.904304  [ 6464/60000]\n",
            "loss: 1.794171  [12864/60000]\n",
            "loss: 1.820709  [19264/60000]\n",
            "loss: 1.731501  [25664/60000]\n",
            "loss: 1.680440  [32064/60000]\n",
            "loss: 1.702318  [38464/60000]\n",
            "loss: 1.597782  [44864/60000]\n",
            "loss: 1.624169  [51264/60000]\n",
            "loss: 1.523919  [57664/60000]\n",
            "Test Error: \n",
            " Accuracy: 61.6%, Avg loss: 1.537995 \n",
            "\n",
            "Epoch 4\n",
            "-------------------------------\n",
            "loss: 1.608122  [   64/60000]\n",
            "loss: 1.568619  [ 6464/60000]\n",
            "loss: 1.422827  [12864/60000]\n",
            "loss: 1.484435  [19264/60000]\n",
            "loss: 1.379215  [25664/60000]\n",
            "loss: 1.371946  [32064/60000]\n",
            "loss: 1.392402  [38464/60000]\n",
            "loss: 1.305845  [44864/60000]\n",
            "loss: 1.348357  [51264/60000]\n",
            "loss: 1.247856  [57664/60000]\n",
            "Test Error: \n",
            " Accuracy: 63.8%, Avg loss: 1.270624 \n",
            "\n",
            "Epoch 5\n",
            "-------------------------------\n",
            "loss: 1.349690  [   64/60000]\n",
            "loss: 1.326983  [ 6464/60000]\n",
            "loss: 1.165905  [12864/60000]\n",
            "loss: 1.259897  [19264/60000]\n",
            "loss: 1.142676  [25664/60000]\n",
            "loss: 1.168370  [32064/60000]\n",
            "loss: 1.194948  [38464/60000]\n",
            "loss: 1.120166  [44864/60000]\n",
            "loss: 1.170513  [51264/60000]\n",
            "loss: 1.079431  [57664/60000]\n",
            "Test Error: \n",
            " Accuracy: 65.1%, Avg loss: 1.099991 \n",
            "\n",
            "Done!\n"
          ]
        }
      ]
    },
    {
      "cell_type": "code",
      "source": [
        "classes = [\n",
        "    \"T-shirt/top\",\n",
        "    \"Trouser\",\n",
        "    \"Pullover\",\n",
        "    \"Dress\",\n",
        "    \"Coat\",\n",
        "    \"Sandal\",\n",
        "    \"Shirt\",\n",
        "    \"Sneaker\",\n",
        "    \"Bag\",\n",
        "    \"Ankle boot\",\n",
        "]\n",
        "\n",
        "model.eval()\n",
        "x, y = test_data[32][0], test_data[32][1]\n",
        "with torch.no_grad():\n",
        "    x = x.to(device)\n",
        "    pred = model(x)\n",
        "    predicted, actual = classes[pred[0].argmax(0)], classes[y]\n",
        "    print(f'Predicted: \"{predicted}\", Actual: \"{actual}\"')"
      ],
      "metadata": {
        "colab": {
          "base_uri": "https://localhost:8080/"
        },
        "id": "9UjxZ9pRwPPj",
        "outputId": "263267ef-a5f8-4b23-c987-c9924406a0c0"
      },
      "execution_count": null,
      "outputs": [
        {
          "output_type": "stream",
          "name": "stdout",
          "text": [
            "Predicted: \"Dress\", Actual: \"Dress\"\n"
          ]
        }
      ]
    },
    {
      "cell_type": "markdown",
      "source": [
        "## Zadanie 2"
      ],
      "metadata": {
        "id": "KO7nae5Uzp-y"
      }
    },
    {
      "cell_type": "code",
      "source": [
        "import matplotlib.pyplot as plt"
      ],
      "metadata": {
        "id": "bIztperew3rO"
      },
      "execution_count": 2,
      "outputs": []
    },
    {
      "cell_type": "code",
      "source": [
        "# Transforms images to a PyTorch Tensor\n",
        "# tensor_transform = ToTensor()\n",
        "\n",
        "# # Download the MNIST Dataset\n",
        "# dataset = datasets.MNIST(root = \"./data\",\n",
        "# \t\t\t\t\t\ttrain = True,\n",
        "# \t\t\t\t\t\tdownload = True,\n",
        "# \t\t\t\t\t\ttransform = tensor_transform)\n",
        "\n",
        "# # DataLoader is used to load the dataset\n",
        "# # for training\n",
        "# loader = torch.utils.data.DataLoader(dataset = dataset,\n",
        "# \t\t\t\t\t\t\t\t\tbatch_size = 32,\n",
        "# \t\t\t\t\t\t\t\t\tshuffle = True)\n",
        "dataset = datasets.FashionMNIST(\n",
        "    root=\"data\",\n",
        "    download=True,\n",
        "    transform=ToTensor(),\n",
        ")\n",
        "\n",
        "loader = torch.utils.data.DataLoader(dataset = dataset,\n",
        "\t\t\t\t\t\t\t\t\tbatch_size = 32,\n",
        "\t\t\t\t\t\t\t\t\tshuffle = True)"
      ],
      "metadata": {
        "id": "cb4-3ysI36Ma",
        "colab": {
          "base_uri": "https://localhost:8080/"
        },
        "outputId": "4aac9afb-d117-4cf1-a26d-d51f6cc0c69a"
      },
      "execution_count": 3,
      "outputs": [
        {
          "output_type": "stream",
          "name": "stdout",
          "text": [
            "Downloading http://fashion-mnist.s3-website.eu-central-1.amazonaws.com/train-images-idx3-ubyte.gz\n",
            "Downloading http://fashion-mnist.s3-website.eu-central-1.amazonaws.com/train-images-idx3-ubyte.gz to data/FashionMNIST/raw/train-images-idx3-ubyte.gz\n"
          ]
        },
        {
          "output_type": "stream",
          "name": "stderr",
          "text": [
            "100%|██████████| 26421880/26421880 [00:12<00:00, 2038578.25it/s]\n"
          ]
        },
        {
          "output_type": "stream",
          "name": "stdout",
          "text": [
            "Extracting data/FashionMNIST/raw/train-images-idx3-ubyte.gz to data/FashionMNIST/raw\n",
            "\n",
            "Downloading http://fashion-mnist.s3-website.eu-central-1.amazonaws.com/train-labels-idx1-ubyte.gz\n",
            "Downloading http://fashion-mnist.s3-website.eu-central-1.amazonaws.com/train-labels-idx1-ubyte.gz to data/FashionMNIST/raw/train-labels-idx1-ubyte.gz\n"
          ]
        },
        {
          "output_type": "stream",
          "name": "stderr",
          "text": [
            "100%|██████████| 29515/29515 [00:00<00:00, 170240.84it/s]\n"
          ]
        },
        {
          "output_type": "stream",
          "name": "stdout",
          "text": [
            "Extracting data/FashionMNIST/raw/train-labels-idx1-ubyte.gz to data/FashionMNIST/raw\n",
            "\n",
            "Downloading http://fashion-mnist.s3-website.eu-central-1.amazonaws.com/t10k-images-idx3-ubyte.gz\n",
            "Downloading http://fashion-mnist.s3-website.eu-central-1.amazonaws.com/t10k-images-idx3-ubyte.gz to data/FashionMNIST/raw/t10k-images-idx3-ubyte.gz\n"
          ]
        },
        {
          "output_type": "stream",
          "name": "stderr",
          "text": [
            "100%|██████████| 4422102/4422102 [00:01<00:00, 3126366.82it/s]\n"
          ]
        },
        {
          "output_type": "stream",
          "name": "stdout",
          "text": [
            "Extracting data/FashionMNIST/raw/t10k-images-idx3-ubyte.gz to data/FashionMNIST/raw\n",
            "\n",
            "Downloading http://fashion-mnist.s3-website.eu-central-1.amazonaws.com/t10k-labels-idx1-ubyte.gz\n",
            "Downloading http://fashion-mnist.s3-website.eu-central-1.amazonaws.com/t10k-labels-idx1-ubyte.gz to data/FashionMNIST/raw/t10k-labels-idx1-ubyte.gz\n"
          ]
        },
        {
          "output_type": "stream",
          "name": "stderr",
          "text": [
            "100%|██████████| 5148/5148 [00:00<00:00, 4378884.00it/s]"
          ]
        },
        {
          "output_type": "stream",
          "name": "stdout",
          "text": [
            "Extracting data/FashionMNIST/raw/t10k-labels-idx1-ubyte.gz to data/FashionMNIST/raw\n",
            "\n"
          ]
        },
        {
          "output_type": "stream",
          "name": "stderr",
          "text": [
            "\n"
          ]
        }
      ]
    },
    {
      "cell_type": "code",
      "source": [
        "# Creating a PyTorch class\n",
        "# 28*28 ==> 9 ==> 28*28\n",
        "class AE(torch.nn.Module):\n",
        "\tdef __init__(self):\n",
        "\t\tsuper().__init__()\n",
        "\n",
        "\t\t# Building an linear encoder with Linear\n",
        "\t\t# layer followed by Relu activation function\n",
        "\t\t# 784 ==> 9\n",
        "\t\tself.encoder = torch.nn.Sequential(\n",
        "\t\t\ttorch.nn.Linear(28 * 28, 128),\n",
        "\t\t\ttorch.nn.ReLU(),\n",
        "\t\t\ttorch.nn.Linear(128, 64),\n",
        "\t\t\ttorch.nn.ReLU(),\n",
        "\t\t\ttorch.nn.Linear(64, 36),\n",
        "\t\t\ttorch.nn.ReLU(),\n",
        "\t\t\ttorch.nn.Linear(36, 18),\n",
        "\t\t\ttorch.nn.ReLU(),\n",
        "\t\t\ttorch.nn.Linear(18, 9)\n",
        "\t\t)\n",
        "\n",
        "\t\t# Building an linear decoder with Linear\n",
        "\t\t# layer followed by Relu activation function\n",
        "\t\t# The Sigmoid activation function\n",
        "\t\t# outputs the value between 0 and 1\n",
        "\t\t# 9 ==> 784\n",
        "\t\tself.decoder = torch.nn.Sequential(\n",
        "\t\t\ttorch.nn.Linear(9, 18),\n",
        "\t\t\ttorch.nn.ReLU(),\n",
        "\t\t\ttorch.nn.Linear(18, 36),\n",
        "\t\t\ttorch.nn.ReLU(),\n",
        "\t\t\ttorch.nn.Linear(36, 64),\n",
        "\t\t\ttorch.nn.ReLU(),\n",
        "\t\t\ttorch.nn.Linear(64, 128),\n",
        "\t\t\ttorch.nn.ReLU(),\n",
        "\t\t\ttorch.nn.Linear(128, 28 * 28),\n",
        "\t\t\ttorch.nn.Sigmoid()\n",
        "\t\t)\n",
        "\n",
        "\tdef forward(self, x):\n",
        "\t\tencoded = self.encoder(x)\n",
        "\t\tdecoded = self.decoder(encoded)\n",
        "\t\treturn decoded\n"
      ],
      "metadata": {
        "id": "1GSCiWiH4Utf"
      },
      "execution_count": 4,
      "outputs": []
    },
    {
      "cell_type": "code",
      "source": [
        "# Model Initialization\n",
        "model = AE()\n",
        "\n",
        "# Validation using MSE Loss function\n",
        "loss_function = torch.nn.MSELoss()\n",
        "\n",
        "# Using an Adam Optimizer with lr = 0.1\n",
        "optimizer = torch.optim.Adam(model.parameters(),\n",
        "\t\t\t\t\t\t\tlr = 1e-1,\n",
        "\t\t\t\t\t\t\tweight_decay = 1e-8)"
      ],
      "metadata": {
        "id": "Iv7Jj-jE4cDU"
      },
      "execution_count": 5,
      "outputs": []
    },
    {
      "cell_type": "code",
      "source": [
        "epochs = 5\n",
        "outputs = []\n",
        "losses = []\n",
        "for epoch in range(epochs):\n",
        "  for (image, _) in loader:\n",
        "\n",
        "    # Reshaping the image to (-1, 784)\n",
        "    image = image.reshape(-1, 28*28)\n",
        "\n",
        "    # Output of Autoencoder\n",
        "    reconstructed = model(image)\n",
        "\n",
        "    # Calculating the loss function\n",
        "    loss = loss_function(reconstructed, image)\n",
        "\n",
        "    # The gradients are set to zero,\n",
        "    # the gradient is computed and stored.\n",
        "    # .step() performs parameter update\n",
        "    optimizer.zero_grad()\n",
        "    loss.backward()\n",
        "    optimizer.step()\n",
        "\n",
        "    # Storing the losses in a list for plotting\n",
        "    losses.append(loss)\n",
        "  outputs.append((epochs, image, reconstructed))\n",
        "\n",
        "# Defining the Plot Style\n",
        "plt.style.use('fivethirtyeight')\n",
        "plt.xlabel('Iterations')\n",
        "plt.ylabel('Loss')\n",
        "\n",
        "losses_tensor = torch.tensor(losses)\n",
        "\n",
        "# Plotting the last 100 values\n",
        "plt.plot(losses_tensor[-100:].detach().numpy())\n"
      ],
      "metadata": {
        "id": "MFuiLA5n4pE6",
        "colab": {
          "base_uri": "https://localhost:8080/",
          "height": 495
        },
        "outputId": "80b621ae-b7ca-4faf-e8fa-065b26a377e4"
      },
      "execution_count": 8,
      "outputs": [
        {
          "output_type": "execute_result",
          "data": {
            "text/plain": [
              "[<matplotlib.lines.Line2D at 0x7bfc744aca30>]"
            ]
          },
          "metadata": {},
          "execution_count": 8
        },
        {
          "output_type": "display_data",
          "data": {
            "text/plain": [
              "<Figure size 640x480 with 1 Axes>"
            ],
            "image/png": "[encoded data removed]"
          },
          "metadata": {}
        }
      ]
    },
    {
      "cell_type": "code",
      "source": [
        "for i, item in enumerate(image):\n",
        "  # Reshape the array for plotting\n",
        "  item = item.reshape(-1, 28, 28)\n",
        "  plt.imshow(item[0].detach().numpy(), 'gray')\n",
        "plt.axis('off')\n",
        "plt.show()\n",
        "\n",
        "for i, item in enumerate(reconstructed):\n",
        "  item = item.reshape(-1, 28, 28)\n",
        "  plt.imshow(item[0].detach().numpy(), 'gray')\n",
        "plt.axis('off')\n",
        "plt.show()"
      ],
      "metadata": {
        "id": "BPj6laq15VJx",
        "colab": {
          "base_uri": "https://localhost:8080/",
          "height": 833
        },
        "outputId": "74bedbea-7c13-4dc1-bd82-8cf65f97a764"
      },
      "execution_count": 11,
      "outputs": [
        {
          "output_type": "display_data",
          "data": {
            "text/plain": [
              "<Figure size 640x480 with 1 Axes>"
            ],
            "image/png": "[encoded data removed]"
          },
          "metadata": {}
        },
        {
          "output_type": "display_data",
          "data": {
            "text/plain": [
              "<Figure size 640x480 with 1 Axes>"
            ],
            "image/png": "[encoded data removed]"
          },
          "metadata": {}
        }
      ]
    },
    {
      "cell_type": "code",
      "source": [],
      "metadata": {
        "id": "erko0W9mitiQ"
      },
      "execution_count": null,
      "outputs": []
    }
  ]
}